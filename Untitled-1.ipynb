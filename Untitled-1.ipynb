{
 "cells": [
  {
   "attachments": {},
   "cell_type": "markdown",
   "metadata": {},
   "source": [
    "1. Compare boundary testing, path coverage testing and faulty and abnormal data testing.\n",
    "\n",
    "Boundary testing is testing if a program will accept the correct values and send an error code for the ones that aren't within the boundary, for example a program will test values like 101 when the boundary is 1<=age<=100. This allows it to uncover any issues that may go undetected when only testing the accepted range of inputs. Path coverage on the other hand tests everything and makes that each line has been executed. This method makes sure that each line of code operates under the correct conditions, for example if there is an if function, it would test both true and false conditions for that if statement. This process ensures that both directions that the funciton can take work correctly. Lasty we have, faulty and abnormal data testing which is used mainly to evaluate how well a program can handle invalid or unexpected inputs. This allows it to ensure that if a user enters a value which is unexpected such as a string when the input is suppposed to be an integer. This allows it still function correctly and output an error message or request a valid input from the user."
   ]
  },
  {
   "cell_type": "code",
   "execution_count": 3,
   "metadata": {},
   "outputs": [
    {
     "name": "stdout",
     "output_type": "stream",
     "text": [
      "False\n",
      "True\n",
      "True\n",
      "False\n"
     ]
    }
   ],
   "source": [
    "def is_safe_temperature(temp):\n",
    "    return 0 <= temp <= 100\n",
    "\n",
    "print(is_safe_temperature(-1))\n",
    "print(is_safe_temperature(2))\n",
    "print(is_safe_temperature(99))\n",
    "print(is_safe_temperature(101))"
   ]
  },
  {
   "cell_type": "code",
   "execution_count": 4,
   "metadata": {},
   "outputs": [
    {
     "name": "stdout",
     "output_type": "stream",
     "text": [
      "Free\n",
      "$5\n",
      "$10\n",
      "$10\n",
      "Senior Discount - $7\n"
     ]
    }
   ],
   "source": [
    "def ticket_price(age):\n",
    "    if age < 5:\n",
    "        return \"Free\"\n",
    "    elif 5 <= age <= 17:\n",
    "        return \"$5\"\n",
    "    elif 18 <= age <= 64:\n",
    "        return \"$10\"\n",
    "    else:\n",
    "        return \"Senior Discount - $7\"\n",
    "    \n",
    "print(ticket_price(4))\n",
    "print(ticket_price(16))\n",
    "print(ticket_price(19))\n",
    "print(ticket_price(63))\n",
    "print(ticket_price(95))"
   ]
  },
  {
   "cell_type": "code",
   "execution_count": 5,
   "metadata": {},
   "outputs": [
    {
     "name": "stdout",
     "output_type": "stream",
     "text": [
      "Error: Cannot divide by zero\n",
      "3.0\n"
     ]
    }
   ],
   "source": [
    "def divide_numbers(a, b):\n",
    "    try:\n",
    "        return a / b\n",
    "    except ZeroDivisionError:\n",
    "        return \"Error: Cannot divide by zero\"\n",
    "    except TypeError:\n",
    "        return \"Error: Invalid input, numbers required\"\n",
    "    \n",
    "print(divide_numbers(1,0))\n",
    "print(divide_numbers(12,4))"
   ]
  },
  {
   "attachments": {},
   "cell_type": "markdown",
   "metadata": {},
   "source": [
    "1. Compare unit testing, integration testing and system testing\n",
    "Unit testing is usually automates and focuses on individual components or functions, which tests these one by one to ensure that they all work. Integration testing is normally after unit testing, where they test they system by combining the components togerther, ensuring that the program does the required things. System testing is when the whole program is tested which ensures that it reaches specific requirements and functions.\n",
    "\n",
    "\n"
   ]
  },
  {
   "cell_type": "code",
   "execution_count": 1,
   "metadata": {},
   "outputs": [
    {
     "name": "stdout",
     "output_type": "stream",
     "text": [
      "31.400000000000002\n",
      "18.84\n"
     ]
    }
   ],
   "source": [
    "def calculate_area(radius):\n",
    "    area = 3.14 * radius * 2 #replace x with *\n",
    "    return area\n",
    "\n",
    "print(calculate_area(5))\n",
    "print(calculate_area(3))"
   ]
  },
  {
   "cell_type": "code",
   "execution_count": 3,
   "metadata": {},
   "outputs": [
    {
     "name": "stdout",
     "output_type": "stream",
     "text": [
      "Area: 15\n"
     ]
    }
   ],
   "source": [
    "def calculate_area(length, width):\n",
    "    return length * width #supposed to be multiplication instead of addition\n",
    "\n",
    "area = calculate_area(5, 3)\n",
    "print(f\"Area: {area}\")"
   ]
  },
  {
   "cell_type": "code",
   "execution_count": 4,
   "metadata": {},
   "outputs": [
    {
     "ename": "ZeroDivisionError",
     "evalue": "division by zero",
     "output_type": "error",
     "traceback": [
      "\u001b[31m---------------------------------------------------------------------------\u001b[39m",
      "\u001b[31mZeroDivisionError\u001b[39m                         Traceback (most recent call last)",
      "\u001b[36mCell\u001b[39m\u001b[36m \u001b[39m\u001b[32mIn[4]\u001b[39m\u001b[32m, line 4\u001b[39m\n\u001b[32m      1\u001b[39m \u001b[38;5;28;01mdef\u001b[39;00m\u001b[38;5;250m \u001b[39m\u001b[34mdivide\u001b[39m(a, b):\n\u001b[32m      2\u001b[39m     \u001b[38;5;28;01mreturn\u001b[39;00m a / b\n\u001b[32m----> \u001b[39m\u001b[32m4\u001b[39m result = \u001b[43mdivide\u001b[49m\u001b[43m(\u001b[49m\u001b[32;43m10\u001b[39;49m\u001b[43m,\u001b[49m\u001b[43m \u001b[49m\u001b[32;43m0\u001b[39;49m\u001b[43m)\u001b[49m\n\u001b[32m      5\u001b[39m \u001b[38;5;28mprint\u001b[39m(result)\n",
      "\u001b[36mCell\u001b[39m\u001b[36m \u001b[39m\u001b[32mIn[4]\u001b[39m\u001b[32m, line 2\u001b[39m, in \u001b[36mdivide\u001b[39m\u001b[34m(a, b)\u001b[39m\n\u001b[32m      1\u001b[39m \u001b[38;5;28;01mdef\u001b[39;00m\u001b[38;5;250m \u001b[39m\u001b[34mdivide\u001b[39m(a, b):\n\u001b[32m----> \u001b[39m\u001b[32m2\u001b[39m     \u001b[38;5;28;01mreturn\u001b[39;00m \u001b[43ma\u001b[49m\u001b[43m \u001b[49m\u001b[43m/\u001b[49m\u001b[43m \u001b[49m\u001b[43mb\u001b[49m\n",
      "\u001b[31mZeroDivisionError\u001b[39m: division by zero"
     ]
    }
   ],
   "source": [
    "def divide(a, b):\n",
    "    return a / b\n",
    "\n",
    "result = divide(10, 0) #cannot divide by 0\n",
    "print(result)"
   ]
  },
  {
   "cell_type": "code",
   "execution_count": 5,
   "metadata": {},
   "outputs": [
    {
     "name": "stdout",
     "output_type": "stream",
     "text": [
      "0\n",
      "1\n",
      "2\n",
      "3\n",
      "4\n"
     ]
    }
   ],
   "source": [
    "for i in range(5): #missing :\n",
    "    print(i)"
   ]
  },
  {
   "cell_type": "code",
   "execution_count": 7,
   "metadata": {},
   "outputs": [
    {
     "name": "stdout",
     "output_type": "stream",
     "text": [
      "Average: 25.0\n"
     ]
    }
   ],
   "source": [
    "def calculate_average(numbers):\n",
    "    total = sum(numbers)\n",
    "    return total / len(numbers) #should be /\n",
    "\n",
    "numbers = [10, 20, 30, 40]\n",
    "average = calculate_average(numbers)\n",
    "print(f\"Average: {average}\")"
   ]
  },
  {
   "cell_type": "code",
   "execution_count": 10,
   "metadata": {},
   "outputs": [
    {
     "name": "stdout",
     "output_type": "stream",
     "text": [
      "78.53981633974483\n"
     ]
    }
   ],
   "source": [
    "import math\n",
    "def calculate_area(diameter):\n",
    "    return math.pi * diameter ** 2 #math is not a thing supposed to be \n",
    "\n",
    "print(calculate_area(5))"
   ]
  }
 ],
 "metadata": {
  "kernelspec": {
   "display_name": "Python 3",
   "language": "python",
   "name": "python3"
  },
  "language_info": {
   "codemirror_mode": {
    "name": "ipython",
    "version": 3
   },
   "file_extension": ".py",
   "mimetype": "text/x-python",
   "name": "python",
   "nbconvert_exporter": "python",
   "pygments_lexer": "ipython3",
   "version": "3.12.8"
  },
  "orig_nbformat": 4
 },
 "nbformat": 4,
 "nbformat_minor": 2
}
