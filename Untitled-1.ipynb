{
 "cells": [
  {
   "attachments": {},
   "cell_type": "markdown",
   "metadata": {},
   "source": [
    "1. Compare boundary testing, path coverage testing and faulty and abnormal data testing.\n",
    "\n",
    "Boundary testing is testing if a program will accept the correct values and send an error code for the ones that aren't within the boundary, for example a program will test values like 101 when the boundary is 1<=age<=100. This allows it to uncover any issues that may go undetected when only testing the accepted range of inputs. Path coverage on the other hand tests everything and makes that each line has been executed. This method makes sure that each line of code operates under the correct conditions, for example if there is an if function, it would test both true and false conditions for that if statement. This process ensures that both directions that the funciton can take work correctly. Lasty we have, faulty and abnormal data testing which is used mainly to evaluate how well a program can handle invalid or unexpected inputs. This allows it to ensure that if a user enters a value which is unexpected such as a string when the input is suppposed to be an integer. This allows it still function correctly and output an error message or request a valid input from the user."
   ]
  },
  {
   "cell_type": "code",
   "execution_count": 3,
   "metadata": {},
   "outputs": [
    {
     "name": "stdout",
     "output_type": "stream",
     "text": [
      "False\n",
      "True\n",
      "True\n",
      "False\n"
     ]
    }
   ],
   "source": [
    "def is_safe_temperature(temp):\n",
    "    return 0 <= temp <= 100\n",
    "\n",
    "print(is_safe_temperature(-1))\n",
    "print(is_safe_temperature(2))\n",
    "print(is_safe_temperature(99))\n",
    "print(is_safe_temperature(101))"
   ]
  },
  {
   "cell_type": "code",
   "execution_count": 4,
   "metadata": {},
   "outputs": [
    {
     "name": "stdout",
     "output_type": "stream",
     "text": [
      "Free\n",
      "$5\n",
      "$10\n",
      "$10\n",
      "Senior Discount - $7\n"
     ]
    }
   ],
   "source": [
    "def ticket_price(age):\n",
    "    if age < 5:\n",
    "        return \"Free\"\n",
    "    elif 5 <= age <= 17:\n",
    "        return \"$5\"\n",
    "    elif 18 <= age <= 64:\n",
    "        return \"$10\"\n",
    "    else:\n",
    "        return \"Senior Discount - $7\"\n",
    "    \n",
    "print(ticket_price(4))\n",
    "print(ticket_price(16))\n",
    "print(ticket_price(19))\n",
    "print(ticket_price(63))\n",
    "print(ticket_price(95))"
   ]
  },
  {
   "cell_type": "code",
   "execution_count": 5,
   "metadata": {},
   "outputs": [
    {
     "name": "stdout",
     "output_type": "stream",
     "text": [
      "Error: Cannot divide by zero\n",
      "3.0\n"
     ]
    }
   ],
   "source": [
    "def divide_numbers(a, b):\n",
    "    try:\n",
    "        return a / b\n",
    "    except ZeroDivisionError:\n",
    "        return \"Error: Cannot divide by zero\"\n",
    "    except TypeError:\n",
    "        return \"Error: Invalid input, numbers required\"\n",
    "    \n",
    "print(divide_numbers(1,0))\n",
    "print(divide_numbers(12,4))"
   ]
  },
  {
   "attachments": {},
   "cell_type": "markdown",
   "metadata": {},
   "source": [
    "1. Compare unit teating, integration testing and system testing\n",
    "\n"
   ]
  }
 ],
 "metadata": {
  "kernelspec": {
   "display_name": "Python 3",
   "language": "python",
   "name": "python3"
  },
  "language_info": {
   "codemirror_mode": {
    "name": "ipython",
    "version": 3
   },
   "file_extension": ".py",
   "mimetype": "text/x-python",
   "name": "python",
   "nbconvert_exporter": "python",
   "pygments_lexer": "ipython3",
   "version": "3.12.8"
  },
  "orig_nbformat": 4
 },
 "nbformat": 4,
 "nbformat_minor": 2
}
